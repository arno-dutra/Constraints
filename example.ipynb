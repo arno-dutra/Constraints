{
 "cells": [
  {
   "cell_type": "code",
   "execution_count": null,
   "metadata": {},
   "outputs": [],
   "source": [
    "from contraintes.manager.arno import ArnoConstraintsManager\n",
    "from contraintes.constraints.uniform import UniformConstraintsObject\n",
    "from contraintes.hyperparameters.handler import HyperparametersHandler"
   ]
  },
  {
   "cell_type": "markdown",
   "metadata": {},
   "source": [
    "## Load Datas"
   ]
  },
  {
   "cell_type": "code",
   "execution_count": null,
   "metadata": {},
   "outputs": [],
   "source": [
    "# Load dataset\n",
    "print(\"Loading dataset\", dataset)\n",
    "train, train_labels = _load_tsc_dataset(dataset, \"TRAIN\", return_X_y=True, return_type=\"numpy3d\")\n",
    "test, test_labels = _load_tsc_dataset(dataset, \"TEST\", return_X_y=True, return_type=\"numpy3d\")"
   ]
  },
  {
   "cell_type": "markdown",
   "metadata": {},
   "source": [
    "## Define constraints"
   ]
  },
  {
   "cell_type": "code",
   "execution_count": null,
   "metadata": {},
   "outputs": [],
   "source": [
    "constraints = UniformConstraintsObject(y=train_labels)\n",
    "\n",
    "# Generate constraints\n",
    "print(\"Generating constraints\")\n",
    "constraints.generate_must_link(nb_constraints=nb_constraints, based_on_y=True, no_tautology=True, with_replacement=False)\n",
    "constraints.generate_cannot_link(nb_constraints=nb_constraints, based_on_y=True, with_replacement=False)"
   ]
  },
  {
   "cell_type": "markdown",
   "metadata": {},
   "source": [
    "## Declare hyperparameters"
   ]
  },
  {
   "cell_type": "code",
   "execution_count": null,
   "metadata": {},
   "outputs": [],
   "source": [
    "ae_hyperparameters_handler = HyperparametersHandler()\n",
    "ae_hyperparameters_handler.add_hyperparameter(FromMeanHyperparameter(name=\"units_1\", mean=500, std=50))\n",
    "ae_hyperparameters_handler.add_hyperparameter(FromMeanHyperparameter(name=\"units_2\", mean=500, std=50))\n",
    "ae_hyperparameters_handler.add_hyperparameter(FromMeanHyperparameter(name=\"units_3\", mean=500, std=50))"
   ]
  },
  {
   "cell_type": "code",
   "execution_count": null,
   "metadata": {},
   "outputs": [],
   "source": [
    "cl_hyperparameters_handler = HyperparametersHandler()\n",
    "cl_hyperparameters_handler.add_hyperparameter(StaticHyperparameter(name=\"random_state\", value=42))"
   ]
  },
  {
   "cell_type": "markdown",
   "metadata": {},
   "source": [
    "## Declare tags"
   ]
  },
  {
   "cell_type": "code",
   "execution_count": null,
   "metadata": {},
   "outputs": [],
   "source": [
    "from constraints.tags.master.evaluate_constraints import EvaluateConstraints\n",
    "from constraints.tags.master.handler import TagsHandler"
   ]
  },
  {
   "cell_type": "code",
   "execution_count": null,
   "metadata": {},
   "outputs": [],
   "source": [
    "tags = TagsHandler(path=\"./example/dialogue.json\")\n",
    "\n",
    "# Declare all tags master corresponding to tags you want to insert in your code\n",
    "tags.add_tag(ConstantSender(ask_for=[\"model_file_name\", \"hyperparameters_hash\"]))\n",
    "tags.add_tag(EvaluateConstraints(constraints=constraints))\n",
    "\n",
    "tags.send_message()"
   ]
  },
  {
   "cell_type": "markdown",
   "metadata": {},
   "source": [
    "## Manager"
   ]
  },
  {
   "cell_type": "code",
   "execution_count": null,
   "metadata": {},
   "outputs": [],
   "source": [
    "# Declare the constraints manager\n",
    "constraintsManager = ArnoConstraintsManager(constraints=constraints, ae_hyperparameters_handler=ae_hyperparameters_handler, cl_hyperparameters_handler=cl_hyperparameters_handler, tags=tags)"
   ]
  },
  {
   "cell_type": "code",
   "execution_count": null,
   "metadata": {},
   "outputs": [],
   "source": [
    "constraintsManager.run_pipeline()"
   ]
  },
  {
   "cell_type": "code",
   "execution_count": null,
   "metadata": {},
   "outputs": [],
   "source": [
    "constraintsManager.score()"
   ]
  }
 ],
 "metadata": {
  "language_info": {
   "name": "python"
  },
  "orig_nbformat": 4
 },
 "nbformat": 4,
 "nbformat_minor": 2
}
